{
 "cells": [
  {
   "cell_type": "code",
   "execution_count": 1,
   "id": "44dd98ee",
   "metadata": {},
   "outputs": [],
   "source": [
    "import numpy as np\n",
    "import cv2\n",
    "import tensorflow as tf\n",
    "import os\n",
    "\n",
    "import matplotlib.pyplot as plt\n",
    "\n",
    "from tensorflow import keras \n",
    "from tensorflow.keras import layers"
   ]
  },
  {
   "cell_type": "code",
   "execution_count": 2,
   "id": "0eb12d0a",
   "metadata": {},
   "outputs": [],
   "source": [
    "my_model = tf.keras.models.load_model('model_face_emotions_detection.h5')"
   ]
  },
  {
   "cell_type": "code",
   "execution_count": 3,
   "id": "ebd11827",
   "metadata": {},
   "outputs": [],
   "source": [
    "face_detect = cv2.CascadeClassifier('haarcascade_frontalface_alt.xml')"
   ]
  },
  {
   "cell_type": "code",
   "execution_count": 4,
   "id": "34ef7bb8",
   "metadata": {},
   "outputs": [],
   "source": [
    "class_labels = ['Angry','Disgust','Fear','Happy','Sad','Surprise','Neutral']"
   ]
  },
  {
   "cell_type": "code",
   "execution_count": 5,
   "id": "37a37797",
   "metadata": {},
   "outputs": [],
   "source": [
    "def draw_border(img, pt1, pt2, color, thickness, r, d):\n",
    "    x1,y1 = pt1\n",
    "    x2,y2 = pt2\n",
    "    # Top left\n",
    "    cv2.line(img, (x1 + r, y1), (x1 + r + d, y1), color, thickness)\n",
    "    cv2.line(img, (x1, y1 + r), (x1, y1 + r + d), color, thickness)\n",
    "    cv2.ellipse(img, (x1 + r, y1 + r), (r, r), 180, 0, 90, color, thickness)\n",
    "    # Top right\n",
    "    cv2.line(img, (x2 - r, y1), (x2 - r - d, y1), color, thickness)\n",
    "    cv2.line(img, (x2, y1 + r), (x2, y1 + r + d), color, thickness)\n",
    "    cv2.ellipse(img, (x2 - r, y1 + r), (r, r), 270, 0, 90, color, thickness)\n",
    "    # Bottom left\n",
    "    cv2.line(img, (x1 + r, y2), (x1 + r + d, y2), color, thickness)\n",
    "    cv2.line(img, (x1, y2 - r), (x1, y2 - r - d), color, thickness)\n",
    "    cv2.ellipse(img, (x1 + r, y2 - r), (r, r), 90, 0, 90, color, thickness)\n",
    "    # Bottom right\n",
    "    cv2.line(img, (x2 - r, y2), (x2 - r - d, y2), color, thickness)\n",
    "    cv2.line(img, (x2, y2 - r), (x2, y2 - r - d), color, thickness)\n",
    "    cv2.ellipse(img, (x2 - r, y2 - r), (r, r), 0, 0, 90, color, thickness)\n"
   ]
  },
  {
   "cell_type": "code",
   "execution_count": 6,
   "id": "18988d5e",
   "metadata": {},
   "outputs": [],
   "source": [
    "face_detect = cv2.CascadeClassifier('haarcascade_frontalface_default.xml')\n",
    "#eye_detect = cv2.CascadeClassifier('haarcascade_eye.xml')\n",
    "\n",
    "class_labels = ['Angry','Disgust','Fear','Happy','Sad','Surprise','Neutral']\n",
    "\n",
    "def face_detection(img,size=0.5):\n",
    "    img_gray = cv2.cvtColor(img, cv2.COLOR_BGR2GRAY)\n",
    "    face_roi = face_detect.detectMultiScale(img_gray, 1.3,1)\n",
    "    if face_roi is ():\n",
    "        return img\n",
    "\n",
    "    for(x,y,w,h) in face_roi:\n",
    "        x = x - 5\n",
    "        w = w + 10\n",
    "        y = y + 7\n",
    "        h = h + 2\n",
    "        draw_border(img, (x,y),(x+w,y+h),(0,0,204), 2,15, 10)\n",
    "        #cv2.imshow('detected_face', img)\n",
    "        #cv2.waitKey(0)\n",
    "        img_gray_crop = img_gray[y:y+h,x:x+w]\n",
    "        img_color_crop = img[y:y+h,x:x+w]\n",
    "        \n",
    "        \n",
    "        final_image = cv2.resize(img_color_crop, (224,224))\n",
    "        final_image = np.expand_dims(final_image, axis = 0)\n",
    "        final_image = final_image/255.0\n",
    "    \n",
    "        prediction = my_model.predict(final_image)\n",
    "        label=class_labels[prediction.argmax()]\n",
    "        cv2.putText(frame,label, (x+20, y-40), cv2.FONT_HERSHEY_SCRIPT_COMPLEX,2, (92,79,19),3)\n",
    "        #eye_roi = eye_detect.detectMultiScale(img_gray_crop)\n",
    "        \n",
    "        #for(ex,ey,ew,eh) in eye_roi:\n",
    "            #cv2.rectangle(img_color_crop, (ex,ey),(ex+ew,ey+eh),(125,125,10), 2)\n",
    "            #cv2.imshow('detected_face', img)\n",
    "\n",
    "    img_color_crop = cv2.flip(img_color_crop, 1)\n",
    "    return img\n",
    "\n",
    "cap = cv2.VideoCapture(0)\n",
    "\n",
    "while True:\n",
    "    ret, frame = cap.read()\n",
    "    cv2.imshow('LIVE', face_detection(frame))\n",
    "    if cv2.waitKey(1) & 0xFF == ord('q'):\n",
    "        break\n",
    "\n",
    "cap.release()\n",
    "cv2.destroyAllWindows()"
   ]
  },
  {
   "cell_type": "code",
   "execution_count": null,
   "id": "e20ab40d",
   "metadata": {},
   "outputs": [],
   "source": []
  }
 ],
 "metadata": {
  "kernelspec": {
   "display_name": "Python 3",
   "language": "python",
   "name": "python3"
  },
  "language_info": {
   "codemirror_mode": {
    "name": "ipython",
    "version": 3
   },
   "file_extension": ".py",
   "mimetype": "text/x-python",
   "name": "python",
   "nbconvert_exporter": "python",
   "pygments_lexer": "ipython3",
   "version": "3.7.10"
  }
 },
 "nbformat": 4,
 "nbformat_minor": 5
}
